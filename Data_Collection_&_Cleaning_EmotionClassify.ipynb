{
 "cells": [
  {
   "cell_type": "code",
   "execution_count": 6,
   "metadata": {},
   "outputs": [],
   "source": [
    "# import libraries\n",
    "import librosa\n",
    "import librosa.display\n",
    "import numpy as np\n",
    "import matplotlib.pyplot as plt\n",
    "import tensorflow as tf\n",
    "from matplotlib.pyplot import specgram\n",
    "import pandas as pd\n",
    "import glob\n",
    "from sklearn.metrics import confusion_matrix\n",
    "import IPython.display as ipd # for audio\n",
    "import os \n",
    "import sys\n",
    "import warnings\n",
    "if not sys.warnoptions:\n",
    "    warnings.simplefilter(\"ignore\")\n",
    "warnings.filterwarnings(\"ignore\", category=DeprecationWarning)"
   ]
  },
  {
   "cell_type": "code",
   "execution_count": 19,
   "metadata": {},
   "outputs": [
    {
     "data": {
      "text/plain": [
       "['OAF_disgust',\n",
       " 'YAF_pleasant_surprised',\n",
       " 'OAF_neutral',\n",
       " 'YAF_angry',\n",
       " 'YAF_sad']"
      ]
     },
     "execution_count": 19,
     "metadata": {},
     "output_type": "execute_result"
    }
   ],
   "source": [
    "# load data\n",
    "\n",
    "TESS = \"/home/bukya/Desktop/Speech_Emotion_Recognition/toronto-emotional-speech-set-tess/tess toronto emotional speech set data/TESS Toronto emotional speech set data/\"\n",
    "\n",
    "RAV = \"/home/bukya/Desktop/Speech_Emotion_Recognition/ravdess-emotional-speech-audio/audio_speech_actors_01-24/\"\n",
    "SAVEE = \"/home/bukya/Desktop/Speech_Emotion_Recognition/ALL/\"\n",
    "CREMA = \"/home/bukya/Desktop/Speech_Emotion_Recognition/AudioWAV/\"\n",
    "\n",
    "\n",
    "# run above files\n",
    "dir_list = os.listdir(TESS)\n",
    "dir_list[0:5]"
   ]
  },
  {
   "cell_type": "markdown",
   "metadata": {},
   "source": [
    "# Extracting Labels and Path"
   ]
  },
  {
   "cell_type": "markdown",
   "metadata": {},
   "source": [
    "# 1. SAVEE Dataset(Male Speakers)"
   ]
  },
  {
   "cell_type": "code",
   "execution_count": 42,
   "metadata": {},
   "outputs": [
    {
     "data": {
      "text/plain": [
       "('_f', 'JK_f05.wav')"
      ]
     },
     "execution_count": 42,
     "metadata": {},
     "output_type": "execute_result"
    }
   ],
   "source": [
    "# Get the data location for SAVEE\n",
    "dir_list_savee = os.listdir(SAVEE)\n",
    "x = dir_list_savee[0:5][1]\n",
    "x[-8:-6], x # file emotion label pattern"
   ]
  },
  {
   "cell_type": "code",
   "execution_count": 43,
   "metadata": {},
   "outputs": [
    {
     "data": {
      "text/plain": [
       "male_neutral     120\n",
       "male_sad          60\n",
       "male_angry        60\n",
       "male_surprise     60\n",
       "male_happy        60\n",
       "male_fear         60\n",
       "male_disgust      60\n",
       "Name: labels, dtype: int64"
      ]
     },
     "execution_count": 43,
     "metadata": {},
     "output_type": "execute_result"
    }
   ],
   "source": [
    "# files prefix letters 'a' = 'anger', 'd' = 'disgust'\n",
    "# example file 'JK_sa01.wav' is sad, file 'JK_su09.wav' is surprise\n",
    "\n",
    "\n",
    "# Get the data location for SAVEE\n",
    "dir_list = os.listdir(SAVEE)\n",
    "\n",
    "# parse the filename to get the emotions\n",
    "emotion=[] # for emotion labels\n",
    "path = [] #  for path of the audio files\n",
    "\n",
    "for i in dir_list:\n",
    "    if i[-8:-6]=='_a':\n",
    "        emotion.append('male_angry')\n",
    "    elif i[-8:-6]=='_d':\n",
    "        emotion.append('male_disgust')\n",
    "    elif i[-8:-6]=='_f':\n",
    "        emotion.append('male_fear')\n",
    "    elif i[-8:-6]=='_h':\n",
    "        emotion.append('male_happy')\n",
    "    elif i[-8:-6]=='_n':\n",
    "        emotion.append('male_neutral')\n",
    "    elif i[-8:-6]=='sa':\n",
    "        emotion.append('male_sad')\n",
    "    elif i[-8:-6]=='su':\n",
    "        emotion.append('male_surprise')\n",
    "    else:\n",
    "        emotion.append('male_error') \n",
    "    #append path of each file, example \"/home/bukya/Desktop/Speech_Emotion_Recognition/ALL/\" + JK_f05.wav\n",
    "    path.append(SAVEE + i) \n",
    "    \n",
    "# creating data frame for emotion labels and path\n",
    "SAVEE_df = pd.DataFrame(emotion, columns = ['labels'])\n",
    "SAVEE_df['source'] = 'SAVEE' # source file\n",
    "SAVEE_df = pd.concat([SAVEE_df, pd.DataFrame(path, columns = ['path'])], axis=1)#combining path and emotion labels\n",
    "SAVEE_df.labels.value_counts()"
   ]
  },
  {
   "cell_type": "code",
   "execution_count": 45,
   "metadata": {},
   "outputs": [
    {
     "data": {
      "text/html": [
       "<div>\n",
       "<style scoped>\n",
       "    .dataframe tbody tr th:only-of-type {\n",
       "        vertical-align: middle;\n",
       "    }\n",
       "\n",
       "    .dataframe tbody tr th {\n",
       "        vertical-align: top;\n",
       "    }\n",
       "\n",
       "    .dataframe thead th {\n",
       "        text-align: right;\n",
       "    }\n",
       "</style>\n",
       "<table border=\"1\" class=\"dataframe\">\n",
       "  <thead>\n",
       "    <tr style=\"text-align: right;\">\n",
       "      <th></th>\n",
       "      <th>labels</th>\n",
       "      <th>source</th>\n",
       "      <th>path</th>\n",
       "    </tr>\n",
       "  </thead>\n",
       "  <tbody>\n",
       "    <tr>\n",
       "      <td>0</td>\n",
       "      <td>male_neutral</td>\n",
       "      <td>SAVEE</td>\n",
       "      <td>/home/bukya/Desktop/Speech_Emotion_Recognition...</td>\n",
       "    </tr>\n",
       "    <tr>\n",
       "      <td>1</td>\n",
       "      <td>male_fear</td>\n",
       "      <td>SAVEE</td>\n",
       "      <td>/home/bukya/Desktop/Speech_Emotion_Recognition...</td>\n",
       "    </tr>\n",
       "    <tr>\n",
       "      <td>2</td>\n",
       "      <td>male_surprise</td>\n",
       "      <td>SAVEE</td>\n",
       "      <td>/home/bukya/Desktop/Speech_Emotion_Recognition...</td>\n",
       "    </tr>\n",
       "    <tr>\n",
       "      <td>3</td>\n",
       "      <td>male_sad</td>\n",
       "      <td>SAVEE</td>\n",
       "      <td>/home/bukya/Desktop/Speech_Emotion_Recognition...</td>\n",
       "    </tr>\n",
       "    <tr>\n",
       "      <td>4</td>\n",
       "      <td>male_disgust</td>\n",
       "      <td>SAVEE</td>\n",
       "      <td>/home/bukya/Desktop/Speech_Emotion_Recognition...</td>\n",
       "    </tr>\n",
       "  </tbody>\n",
       "</table>\n",
       "</div>"
      ],
      "text/plain": [
       "          labels source                                               path\n",
       "0   male_neutral  SAVEE  /home/bukya/Desktop/Speech_Emotion_Recognition...\n",
       "1      male_fear  SAVEE  /home/bukya/Desktop/Speech_Emotion_Recognition...\n",
       "2  male_surprise  SAVEE  /home/bukya/Desktop/Speech_Emotion_Recognition...\n",
       "3       male_sad  SAVEE  /home/bukya/Desktop/Speech_Emotion_Recognition...\n",
       "4   male_disgust  SAVEE  /home/bukya/Desktop/Speech_Emotion_Recognition..."
      ]
     },
     "execution_count": 45,
     "metadata": {},
     "output_type": "execute_result"
    }
   ],
   "source": [
    "# explore data\n",
    "SAVEE_df.head()"
   ]
  },
  {
   "cell_type": "code",
   "execution_count": 47,
   "metadata": {},
   "outputs": [
    {
     "data": {
      "text/plain": [
       "(480, 3)"
      ]
     },
     "execution_count": 47,
     "metadata": {},
     "output_type": "execute_result"
    }
   ],
   "source": [
    "SAVEE_df.shape"
   ]
  },
  {
   "cell_type": "code",
   "execution_count": 53,
   "metadata": {
    "scrolled": true
   },
   "outputs": [
    {
     "data": {
      "text/plain": [
       "\"# Lets play a happy track\\nfname = SAVEE + 'DC_h11.wav'  \\ndata, sampling_rate = librosa.load(fname)\\nplt.figure(figsize=(15, 5))\\nlibrosa.display.waveplot(data, sr=sampling_rate)\\n\\n# Lets play the audio \\nipd.Audio(fname)\""
      ]
     },
     "execution_count": 53,
     "metadata": {},
     "output_type": "execute_result"
    }
   ],
   "source": [
    "'''# Lets play a happy track\n",
    "fname = SAVEE + 'DC_h11.wav'  \n",
    "data, sampling_rate = librosa.load(fname)\n",
    "plt.figure(figsize=(15, 5))\n",
    "librosa.display.waveplot(data, sr=sampling_rate)\n",
    "\n",
    "# Lets play the audio \n",
    "ipd.Audio(fname)'''"
   ]
  },
  {
   "cell_type": "markdown",
   "metadata": {},
   "source": [
    "# 2. RAVDESS dataset(Actors)\n"
   ]
  },
  {
   "cell_type": "markdown",
   "metadata": {},
   "source": [
    "Actor(01 to 24. Odd numbered actors are male, even numbered actors are female).\n",
    "\n",
    "Emotion (01 = neutral, 02 = calm, 03 = happy, 04 = sad, 05 = angry, 06 = fearful, 07 = disgust, 08 = surprised).\n",
    "\n",
    "\n",
    "File name pattern example 02-01-06-01-02-01-12.wav,\n",
    "This means the meta data for the audio file is: Video-only (02),\n",
    "Speech (01),\n",
    "Fearful (06),\n",
    "Normal intensity (01),\n",
    "Statement \"dogs\" (02),\n",
    "1st Repetition (01),\n",
    "12th Actor (12) - Female (as the actor ID number is even),"
   ]
  },
  {
   "cell_type": "code",
   "execution_count": 56,
   "metadata": {},
   "outputs": [
    {
     "data": {
      "text/plain": [
       "['Actor_01', 'Actor_02', 'Actor_03']"
      ]
     },
     "execution_count": 56,
     "metadata": {},
     "output_type": "execute_result"
    }
   ],
   "source": [
    "# load the data\n",
    "dir_list = os.listdir(RAV)\n",
    "dir_list.sort()\n",
    "dir_list[0:3]"
   ]
  },
  {
   "cell_type": "code",
   "execution_count": 68,
   "metadata": {},
   "outputs": [
    {
     "data": {
      "text/plain": [
       "female_neutral     144\n",
       "male_neutral       144\n",
       "female_fear         96\n",
       "male_fear           96\n",
       "female_disgust      96\n",
       "female_angry        96\n",
       "male_happy          96\n",
       "female_happy        96\n",
       "female_surprise     96\n",
       "male_sad            96\n",
       "male_angry          96\n",
       "male_surprise       96\n",
       "female_sad          96\n",
       "male_disgust        96\n",
       "Name: labels, dtype: int64"
      ]
     },
     "execution_count": 68,
     "metadata": {},
     "output_type": "execute_result"
    }
   ],
   "source": [
    "# load the data\n",
    "dir_list = os.listdir(RAV)\n",
    "dir_list.sort()\n",
    "\n",
    "# create lists for emotion, gender, path\n",
    "emotion = []\n",
    "gender = []\n",
    "path = []\n",
    "for i in dir_list:\n",
    "    fname = os.listdir(RAV + i)\n",
    "    \n",
    "    for f in fname:\n",
    "        # split 02-01-06-01-02-01-12.wav to 02-01-06-01-02-01-12, 06 is emotion- fearful, \n",
    "        part = f.split('.')[0].split('-') \n",
    "        #print(part)\n",
    "        emotion.append(int(part[2])) # 2nd index represent emotion\n",
    "        temp = int(part[6]) # last index represent gender\n",
    "        if temp%2 == 0:\n",
    "            temp = \"female\"\n",
    "        else:\n",
    "            temp = \"male\"\n",
    "        gender.append(temp)\n",
    "        path.append(RAV + i + '/' + f) # RAV + Actor_01 + / + wav file\n",
    "\n",
    "# create data frame for above lists \n",
    "RAV_df = pd.DataFrame(emotion)\n",
    "RAV_df = RAV_df.replace({1:'neutral', 2:'neutral', 3:'happy', 4:'sad', 5:'angry', 6:'fear', 7:'disgust', 8:'surprise'})\n",
    "\n",
    "RAV_df = pd.concat([pd.DataFrame(gender),RAV_df],axis=1)\n",
    "\n",
    "RAV_df.columns = ['gender','emotion']\n",
    "\n",
    "RAV_df['labels'] =RAV_df.gender + '_' + RAV_df.emotion\n",
    "\n",
    "RAV_df['source'] = 'RAVDESS'  \n",
    "RAV_df = pd.concat([RAV_df,pd.DataFrame(path, columns = ['path'])],axis=1)\n",
    "\n",
    "RAV_df = RAV_df.drop(['gender', 'emotion'], axis=1)\n",
    "RAV_df.labels.value_counts()"
   ]
  },
  {
   "cell_type": "code",
   "execution_count": 70,
   "metadata": {},
   "outputs": [
    {
     "data": {
      "text/html": [
       "<div>\n",
       "<style scoped>\n",
       "    .dataframe tbody tr th:only-of-type {\n",
       "        vertical-align: middle;\n",
       "    }\n",
       "\n",
       "    .dataframe tbody tr th {\n",
       "        vertical-align: top;\n",
       "    }\n",
       "\n",
       "    .dataframe thead th {\n",
       "        text-align: right;\n",
       "    }\n",
       "</style>\n",
       "<table border=\"1\" class=\"dataframe\">\n",
       "  <thead>\n",
       "    <tr style=\"text-align: right;\">\n",
       "      <th></th>\n",
       "      <th>labels</th>\n",
       "      <th>source</th>\n",
       "      <th>path</th>\n",
       "    </tr>\n",
       "  </thead>\n",
       "  <tbody>\n",
       "    <tr>\n",
       "      <td>0</td>\n",
       "      <td>male_angry</td>\n",
       "      <td>RAVDESS</td>\n",
       "      <td>/home/bukya/Desktop/Speech_Emotion_Recognition...</td>\n",
       "    </tr>\n",
       "    <tr>\n",
       "      <td>1</td>\n",
       "      <td>male_disgust</td>\n",
       "      <td>RAVDESS</td>\n",
       "      <td>/home/bukya/Desktop/Speech_Emotion_Recognition...</td>\n",
       "    </tr>\n",
       "    <tr>\n",
       "      <td>2</td>\n",
       "      <td>male_happy</td>\n",
       "      <td>RAVDESS</td>\n",
       "      <td>/home/bukya/Desktop/Speech_Emotion_Recognition...</td>\n",
       "    </tr>\n",
       "    <tr>\n",
       "      <td>3</td>\n",
       "      <td>male_happy</td>\n",
       "      <td>RAVDESS</td>\n",
       "      <td>/home/bukya/Desktop/Speech_Emotion_Recognition...</td>\n",
       "    </tr>\n",
       "    <tr>\n",
       "      <td>4</td>\n",
       "      <td>male_neutral</td>\n",
       "      <td>RAVDESS</td>\n",
       "      <td>/home/bukya/Desktop/Speech_Emotion_Recognition...</td>\n",
       "    </tr>\n",
       "  </tbody>\n",
       "</table>\n",
       "</div>"
      ],
      "text/plain": [
       "         labels   source                                               path\n",
       "0    male_angry  RAVDESS  /home/bukya/Desktop/Speech_Emotion_Recognition...\n",
       "1  male_disgust  RAVDESS  /home/bukya/Desktop/Speech_Emotion_Recognition...\n",
       "2    male_happy  RAVDESS  /home/bukya/Desktop/Speech_Emotion_Recognition...\n",
       "3    male_happy  RAVDESS  /home/bukya/Desktop/Speech_Emotion_Recognition...\n",
       "4  male_neutral  RAVDESS  /home/bukya/Desktop/Speech_Emotion_Recognition..."
      ]
     },
     "execution_count": 70,
     "metadata": {},
     "output_type": "execute_result"
    }
   ],
   "source": [
    "RAV_df.head()"
   ]
  },
  {
   "cell_type": "markdown",
   "metadata": {},
   "source": [
    "# 3. TESS dataset(2 speakers, a young female and an older female)\n"
   ]
  },
  {
   "cell_type": "code",
   "execution_count": 79,
   "metadata": {
    "scrolled": true
   },
   "outputs": [
    {
     "data": {
      "text/plain": [
       "(['OAF_Fear', 'OAF_Pleasant_surprise', 'OAF_Sad', 'OAF_angry', 'OAF_disgust'],\n",
       " ['YAF_disgust', 'YAF_fear', 'YAF_happy', 'YAF_neutral'])"
      ]
     },
     "execution_count": 79,
     "metadata": {},
     "output_type": "execute_result"
    }
   ],
   "source": [
    "# load data\n",
    "dir_list = os.listdir(TESS)\n",
    "dir_list.sort()\n",
    "dir_list[0:5], dir_list[8:12]"
   ]
  },
  {
   "cell_type": "code",
   "execution_count": 80,
   "metadata": {},
   "outputs": [
    {
     "data": {
      "text/plain": [
       "female_disgust     400\n",
       "female_happy       400\n",
       "female_sad         400\n",
       "female_fear        400\n",
       "female_neutral     400\n",
       "female_angry       400\n",
       "female_surprise    400\n",
       "Name: labels, dtype: int64"
      ]
     },
     "execution_count": 80,
     "metadata": {},
     "output_type": "execute_result"
    }
   ],
   "source": [
    "# load data\n",
    "dir_list = os.listdir(TESS)\n",
    "dir_list.sort()\n",
    "\n",
    "path = []\n",
    "emotion = []\n",
    "\n",
    "for i in dir_list:\n",
    "    fname = os.listdir(TESS + i)\n",
    "    for f in fname:\n",
    "        if i == 'OAF_angry' or i == 'YAF_angry':\n",
    "            emotion.append('female_angry')\n",
    "        elif i == 'OAF_disgust' or i == 'YAF_disgust':\n",
    "            emotion.append('female_disgust')\n",
    "        elif i == 'OAF_Fear' or i == 'YAF_fear':\n",
    "            emotion.append('female_fear')\n",
    "        elif i == 'OAF_happy' or i == 'YAF_happy':\n",
    "            emotion.append('female_happy')\n",
    "        elif i == 'OAF_neutral' or i == 'YAF_neutral':\n",
    "            emotion.append('female_neutral')                                \n",
    "        elif i == 'OAF_Pleasant_surprise' or i == 'YAF_pleasant_surprised':\n",
    "            emotion.append('female_surprise')               \n",
    "        elif i == 'OAF_Sad' or i == 'YAF_sad':\n",
    "            emotion.append('female_sad')\n",
    "        else:\n",
    "            emotion.append('Unknown')\n",
    "        path.append(TESS + i + \"/\" + f)\n",
    "\n",
    "TESS_df = pd.DataFrame(emotion, columns = ['labels'])\n",
    "TESS_df['source'] = 'TESS'\n",
    "TESS_df = pd.concat([TESS_df,pd.DataFrame(path, columns = ['path'])],axis=1)\n",
    "TESS_df.labels.value_counts()"
   ]
  },
  {
   "cell_type": "code",
   "execution_count": 82,
   "metadata": {},
   "outputs": [
    {
     "data": {
      "text/html": [
       "<div>\n",
       "<style scoped>\n",
       "    .dataframe tbody tr th:only-of-type {\n",
       "        vertical-align: middle;\n",
       "    }\n",
       "\n",
       "    .dataframe tbody tr th {\n",
       "        vertical-align: top;\n",
       "    }\n",
       "\n",
       "    .dataframe thead th {\n",
       "        text-align: right;\n",
       "    }\n",
       "</style>\n",
       "<table border=\"1\" class=\"dataframe\">\n",
       "  <thead>\n",
       "    <tr style=\"text-align: right;\">\n",
       "      <th></th>\n",
       "      <th>labels</th>\n",
       "      <th>source</th>\n",
       "      <th>path</th>\n",
       "    </tr>\n",
       "  </thead>\n",
       "  <tbody>\n",
       "    <tr>\n",
       "      <td>0</td>\n",
       "      <td>female_fear</td>\n",
       "      <td>TESS</td>\n",
       "      <td>/home/bukya/Desktop/Speech_Emotion_Recognition...</td>\n",
       "    </tr>\n",
       "    <tr>\n",
       "      <td>1</td>\n",
       "      <td>female_fear</td>\n",
       "      <td>TESS</td>\n",
       "      <td>/home/bukya/Desktop/Speech_Emotion_Recognition...</td>\n",
       "    </tr>\n",
       "    <tr>\n",
       "      <td>2</td>\n",
       "      <td>female_fear</td>\n",
       "      <td>TESS</td>\n",
       "      <td>/home/bukya/Desktop/Speech_Emotion_Recognition...</td>\n",
       "    </tr>\n",
       "    <tr>\n",
       "      <td>3</td>\n",
       "      <td>female_fear</td>\n",
       "      <td>TESS</td>\n",
       "      <td>/home/bukya/Desktop/Speech_Emotion_Recognition...</td>\n",
       "    </tr>\n",
       "    <tr>\n",
       "      <td>4</td>\n",
       "      <td>female_fear</td>\n",
       "      <td>TESS</td>\n",
       "      <td>/home/bukya/Desktop/Speech_Emotion_Recognition...</td>\n",
       "    </tr>\n",
       "  </tbody>\n",
       "</table>\n",
       "</div>"
      ],
      "text/plain": [
       "        labels source                                               path\n",
       "0  female_fear   TESS  /home/bukya/Desktop/Speech_Emotion_Recognition...\n",
       "1  female_fear   TESS  /home/bukya/Desktop/Speech_Emotion_Recognition...\n",
       "2  female_fear   TESS  /home/bukya/Desktop/Speech_Emotion_Recognition...\n",
       "3  female_fear   TESS  /home/bukya/Desktop/Speech_Emotion_Recognition...\n",
       "4  female_fear   TESS  /home/bukya/Desktop/Speech_Emotion_Recognition..."
      ]
     },
     "execution_count": 82,
     "metadata": {},
     "output_type": "execute_result"
    }
   ],
   "source": [
    "TESS_df.head()"
   ]
  },
  {
   "cell_type": "markdown",
   "metadata": {},
   "source": [
    "# 4. CREMA-D dataset(different speakers from movies)\n"
   ]
  },
  {
   "cell_type": "code",
   "execution_count": 87,
   "metadata": {},
   "outputs": [
    {
     "data": {
      "text/plain": [
       "(['1001_DFA_ANG_XX.wav', '1001_DFA_DIS_XX.wav', '1001_DFA_FEA_XX.wav'],\n",
       " ['1001', 'DFA', 'ANG', 'XX.wav'])"
      ]
     },
     "execution_count": 87,
     "metadata": {},
     "output_type": "execute_result"
    }
   ],
   "source": [
    "# load data\n",
    "dir_list = os.listdir(CREMA)\n",
    "dir_list.sort()\n",
    "dir_list[0:3], dir_list[0].split('_')"
   ]
  },
  {
   "cell_type": "code",
   "execution_count": 88,
   "metadata": {},
   "outputs": [
    {
     "data": {
      "text/plain": [
       "male_fear         671\n",
       "male_sad          671\n",
       "male_angry        671\n",
       "male_happy        671\n",
       "male_disgust      671\n",
       "female_disgust    600\n",
       "female_sad        600\n",
       "female_fear       600\n",
       "female_angry      600\n",
       "female_happy      600\n",
       "male_neutral      575\n",
       "female_neutral    512\n",
       "Name: labels, dtype: int64"
      ]
     },
     "execution_count": 88,
     "metadata": {},
     "output_type": "execute_result"
    }
   ],
   "source": [
    "# load data\n",
    "dir_list = os.listdir(CREMA)\n",
    "dir_list.sort()\n",
    "\n",
    "gender = []\n",
    "emotion = []\n",
    "path = []\n",
    "female = [1002,1003,1004,1006,1007,1008,1009,1010,1012,1013,1018,1020,1021,1024,1025,1028,1029,1030,1037,1043,1046,1047,1049,\n",
    "          1052,1053,1054,1055,1056,1058,1060,1061,1063,1072,1073,1074,1075,1076,1078,1079,1082,1084,1089,1091]\n",
    "\n",
    "for i in dir_list: \n",
    "    part = i.split('_') # split '1001_DFA_ANG_XX.wav' to ['1001', 'DFA', 'ANG', 'XX.wav']\n",
    "    \n",
    "    if int(part[0]) in female: # index 0 represent gender\n",
    "        temp = 'female'\n",
    "    else:\n",
    "        temp = 'male'\n",
    "    gender.append(temp)\n",
    "    if part[2] == 'SAD' and temp == 'male': # index 2 is emotion\n",
    "        emotion.append('male_sad')\n",
    "    elif part[2] == 'ANG' and temp == 'male':\n",
    "        emotion.append('male_angry')\n",
    "    elif part[2] == 'DIS' and temp == 'male':\n",
    "        emotion.append('male_disgust')\n",
    "    elif part[2] == 'FEA' and temp == 'male':\n",
    "        emotion.append('male_fear')\n",
    "    elif part[2] == 'HAP' and temp == 'male':\n",
    "        emotion.append('male_happy')\n",
    "    elif part[2] == 'NEU' and temp == 'male':\n",
    "        emotion.append('male_neutral')\n",
    "    elif part[2] == 'SAD' and temp == 'female':\n",
    "        emotion.append('female_sad')\n",
    "    elif part[2] == 'ANG' and temp == 'female':\n",
    "        emotion.append('female_angry')\n",
    "    elif part[2] == 'DIS' and temp == 'female':\n",
    "        emotion.append('female_disgust')\n",
    "    elif part[2] == 'FEA' and temp == 'female':\n",
    "        emotion.append('female_fear')\n",
    "    elif part[2] == 'HAP' and temp == 'female':\n",
    "        emotion.append('female_happy')\n",
    "    elif part[2] == 'NEU' and temp == 'female':\n",
    "        emotion.append('female_neutral')\n",
    "    else:\n",
    "        emotion.append('Unknown')\n",
    "    path.append(CREMA + i)\n",
    "    \n",
    "CREMA_df = pd.DataFrame(emotion, columns = ['labels'])\n",
    "CREMA_df['source'] = 'CREMA'\n",
    "CREMA_df = pd.concat([CREMA_df,pd.DataFrame(path, columns = ['path'])],axis=1)\n",
    "CREMA_df.labels.value_counts()"
   ]
  },
  {
   "cell_type": "code",
   "execution_count": 89,
   "metadata": {},
   "outputs": [
    {
     "data": {
      "text/html": [
       "<div>\n",
       "<style scoped>\n",
       "    .dataframe tbody tr th:only-of-type {\n",
       "        vertical-align: middle;\n",
       "    }\n",
       "\n",
       "    .dataframe tbody tr th {\n",
       "        vertical-align: top;\n",
       "    }\n",
       "\n",
       "    .dataframe thead th {\n",
       "        text-align: right;\n",
       "    }\n",
       "</style>\n",
       "<table border=\"1\" class=\"dataframe\">\n",
       "  <thead>\n",
       "    <tr style=\"text-align: right;\">\n",
       "      <th></th>\n",
       "      <th>labels</th>\n",
       "      <th>source</th>\n",
       "      <th>path</th>\n",
       "    </tr>\n",
       "  </thead>\n",
       "  <tbody>\n",
       "    <tr>\n",
       "      <td>0</td>\n",
       "      <td>male_angry</td>\n",
       "      <td>CREMA</td>\n",
       "      <td>/home/bukya/Desktop/Speech_Emotion_Recognition...</td>\n",
       "    </tr>\n",
       "    <tr>\n",
       "      <td>1</td>\n",
       "      <td>male_disgust</td>\n",
       "      <td>CREMA</td>\n",
       "      <td>/home/bukya/Desktop/Speech_Emotion_Recognition...</td>\n",
       "    </tr>\n",
       "    <tr>\n",
       "      <td>2</td>\n",
       "      <td>male_fear</td>\n",
       "      <td>CREMA</td>\n",
       "      <td>/home/bukya/Desktop/Speech_Emotion_Recognition...</td>\n",
       "    </tr>\n",
       "    <tr>\n",
       "      <td>3</td>\n",
       "      <td>male_happy</td>\n",
       "      <td>CREMA</td>\n",
       "      <td>/home/bukya/Desktop/Speech_Emotion_Recognition...</td>\n",
       "    </tr>\n",
       "    <tr>\n",
       "      <td>4</td>\n",
       "      <td>male_neutral</td>\n",
       "      <td>CREMA</td>\n",
       "      <td>/home/bukya/Desktop/Speech_Emotion_Recognition...</td>\n",
       "    </tr>\n",
       "  </tbody>\n",
       "</table>\n",
       "</div>"
      ],
      "text/plain": [
       "         labels source                                               path\n",
       "0    male_angry  CREMA  /home/bukya/Desktop/Speech_Emotion_Recognition...\n",
       "1  male_disgust  CREMA  /home/bukya/Desktop/Speech_Emotion_Recognition...\n",
       "2     male_fear  CREMA  /home/bukya/Desktop/Speech_Emotion_Recognition...\n",
       "3    male_happy  CREMA  /home/bukya/Desktop/Speech_Emotion_Recognition...\n",
       "4  male_neutral  CREMA  /home/bukya/Desktop/Speech_Emotion_Recognition..."
      ]
     },
     "execution_count": 89,
     "metadata": {},
     "output_type": "execute_result"
    }
   ],
   "source": [
    "CREMA_df.head()"
   ]
  },
  {
   "cell_type": "markdown",
   "metadata": {},
   "source": [
    "# Combined Above Data Frames"
   ]
  },
  {
   "cell_type": "code",
   "execution_count": 92,
   "metadata": {},
   "outputs": [
    {
     "name": "stdout",
     "output_type": "stream",
     "text": [
      "female_sad         1096\n",
      "female_fear        1096\n",
      "female_happy       1096\n",
      "female_disgust     1096\n",
      "female_angry       1096\n",
      "female_neutral     1056\n",
      "male_neutral        839\n",
      "male_sad            827\n",
      "male_happy          827\n",
      "male_fear           827\n",
      "male_angry          827\n",
      "male_disgust        827\n",
      "female_surprise     496\n",
      "male_surprise       156\n",
      "Name: labels, dtype: int64\n"
     ]
    },
    {
     "data": {
      "text/html": [
       "<div>\n",
       "<style scoped>\n",
       "    .dataframe tbody tr th:only-of-type {\n",
       "        vertical-align: middle;\n",
       "    }\n",
       "\n",
       "    .dataframe tbody tr th {\n",
       "        vertical-align: top;\n",
       "    }\n",
       "\n",
       "    .dataframe thead th {\n",
       "        text-align: right;\n",
       "    }\n",
       "</style>\n",
       "<table border=\"1\" class=\"dataframe\">\n",
       "  <thead>\n",
       "    <tr style=\"text-align: right;\">\n",
       "      <th></th>\n",
       "      <th>labels</th>\n",
       "      <th>source</th>\n",
       "      <th>path</th>\n",
       "    </tr>\n",
       "  </thead>\n",
       "  <tbody>\n",
       "    <tr>\n",
       "      <td>0</td>\n",
       "      <td>male_neutral</td>\n",
       "      <td>SAVEE</td>\n",
       "      <td>/home/bukya/Desktop/Speech_Emotion_Recognition...</td>\n",
       "    </tr>\n",
       "    <tr>\n",
       "      <td>1</td>\n",
       "      <td>male_fear</td>\n",
       "      <td>SAVEE</td>\n",
       "      <td>/home/bukya/Desktop/Speech_Emotion_Recognition...</td>\n",
       "    </tr>\n",
       "    <tr>\n",
       "      <td>2</td>\n",
       "      <td>male_surprise</td>\n",
       "      <td>SAVEE</td>\n",
       "      <td>/home/bukya/Desktop/Speech_Emotion_Recognition...</td>\n",
       "    </tr>\n",
       "    <tr>\n",
       "      <td>3</td>\n",
       "      <td>male_sad</td>\n",
       "      <td>SAVEE</td>\n",
       "      <td>/home/bukya/Desktop/Speech_Emotion_Recognition...</td>\n",
       "    </tr>\n",
       "    <tr>\n",
       "      <td>4</td>\n",
       "      <td>male_disgust</td>\n",
       "      <td>SAVEE</td>\n",
       "      <td>/home/bukya/Desktop/Speech_Emotion_Recognition...</td>\n",
       "    </tr>\n",
       "  </tbody>\n",
       "</table>\n",
       "</div>"
      ],
      "text/plain": [
       "          labels source                                               path\n",
       "0   male_neutral  SAVEE  /home/bukya/Desktop/Speech_Emotion_Recognition...\n",
       "1      male_fear  SAVEE  /home/bukya/Desktop/Speech_Emotion_Recognition...\n",
       "2  male_surprise  SAVEE  /home/bukya/Desktop/Speech_Emotion_Recognition...\n",
       "3       male_sad  SAVEE  /home/bukya/Desktop/Speech_Emotion_Recognition...\n",
       "4   male_disgust  SAVEE  /home/bukya/Desktop/Speech_Emotion_Recognition..."
      ]
     },
     "execution_count": 92,
     "metadata": {},
     "output_type": "execute_result"
    }
   ],
   "source": [
    "# all data frames\n",
    "df = pd.concat([SAVEE_df, RAV_df, TESS_df, CREMA_df], axis = 0)\n",
    "print(df.labels.value_counts())\n",
    "df.head()\n",
    "#df.to_csv(\"All_Data_Frames.csv\",index=False)"
   ]
  },
  {
   "cell_type": "code",
   "execution_count": 94,
   "metadata": {},
   "outputs": [
    {
     "data": {
      "text/plain": [
       "(CREMA      7442\n",
       " TESS       2800\n",
       " RAVDESS    1440\n",
       " SAVEE       480\n",
       " Name: source, dtype: int64, (12162, 3))"
      ]
     },
     "execution_count": 94,
     "metadata": {},
     "output_type": "execute_result"
    }
   ],
   "source": [
    "df.source.value_counts(), df.shape"
   ]
  },
  {
   "cell_type": "code",
   "execution_count": null,
   "metadata": {},
   "outputs": [],
   "source": []
  }
 ],
 "metadata": {
  "kernelspec": {
   "display_name": "Python 3",
   "language": "python",
   "name": "python3"
  },
  "language_info": {
   "codemirror_mode": {
    "name": "ipython",
    "version": 3
   },
   "file_extension": ".py",
   "mimetype": "text/x-python",
   "name": "python",
   "nbconvert_exporter": "python",
   "pygments_lexer": "ipython3",
   "version": "3.7.4"
  }
 },
 "nbformat": 4,
 "nbformat_minor": 2
}
