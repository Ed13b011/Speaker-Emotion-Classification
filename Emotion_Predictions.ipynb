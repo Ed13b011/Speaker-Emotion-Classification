{
 "cells": [
  {
   "cell_type": "code",
   "execution_count": 23,
   "metadata": {},
   "outputs": [],
   "source": [
    "# Importing required libraries \n",
    "from keras.models import Sequential, Model, model_from_json\n",
    "import matplotlib.pyplot as plt\n",
    "import keras \n",
    "import pickle\n",
    "import wave  # !pip install wave\n",
    "import os\n",
    "import pandas as pd\n",
    "import numpy as np\n",
    "import sys\n",
    "import warnings\n",
    "import librosa\n",
    "import librosa.display\n",
    "import IPython.display as ipd  # To play sound in the notebook"
   ]
  },
  {
   "cell_type": "code",
   "execution_count": 24,
   "metadata": {},
   "outputs": [],
   "source": [
    "data, sampling_rate = librosa.load('chunk_85-90s.wav')\n",
    "#ipd.Audio('chunk_85-90s.wav')"
   ]
  },
  {
   "cell_type": "code",
   "execution_count": 18,
   "metadata": {},
   "outputs": [
    {
     "name": "stdout",
     "output_type": "stream",
     "text": [
      "Model Loaded\n"
     ]
    }
   ],
   "source": [
    "# loading json and model architecture \n",
    "json_file = open('model_json.json', 'r')\n",
    "loaded_model_json = json_file.read()\n",
    "json_file.close()\n",
    "loaded_model = model_from_json(loaded_model_json)\n",
    "\n",
    "# load weights into new model\n",
    "loaded_model.load_weights(\"saved_models/Emotion_Model.h5\")\n",
    "print(\"Model Loaded\")\n",
    "\n",
    "# the optimiser\n",
    "opt = keras.optimizers.rmsprop(lr=0.00001, decay=1e-6)\n",
    "loaded_model.compile(loss='categorical_crossentropy', optimizer=opt, metrics=['accuracy'])"
   ]
  },
  {
   "cell_type": "code",
   "execution_count": 19,
   "metadata": {},
   "outputs": [
    {
     "data": {
      "text/html": [
       "<div>\n",
       "<style scoped>\n",
       "    .dataframe tbody tr th:only-of-type {\n",
       "        vertical-align: middle;\n",
       "    }\n",
       "\n",
       "    .dataframe tbody tr th {\n",
       "        vertical-align: top;\n",
       "    }\n",
       "\n",
       "    .dataframe thead th {\n",
       "        text-align: right;\n",
       "    }\n",
       "</style>\n",
       "<table border=\"1\" class=\"dataframe\">\n",
       "  <thead>\n",
       "    <tr style=\"text-align: right;\">\n",
       "      <th></th>\n",
       "      <th>0</th>\n",
       "      <th>1</th>\n",
       "      <th>2</th>\n",
       "      <th>3</th>\n",
       "      <th>4</th>\n",
       "      <th>5</th>\n",
       "      <th>6</th>\n",
       "      <th>7</th>\n",
       "      <th>8</th>\n",
       "      <th>9</th>\n",
       "      <th>...</th>\n",
       "      <th>206</th>\n",
       "      <th>207</th>\n",
       "      <th>208</th>\n",
       "      <th>209</th>\n",
       "      <th>210</th>\n",
       "      <th>211</th>\n",
       "      <th>212</th>\n",
       "      <th>213</th>\n",
       "      <th>214</th>\n",
       "      <th>215</th>\n",
       "    </tr>\n",
       "  </thead>\n",
       "  <tbody>\n",
       "    <tr>\n",
       "      <td>0</td>\n",
       "      <td>-11.294938</td>\n",
       "      <td>-15.125132</td>\n",
       "      <td>-24.727261</td>\n",
       "      <td>-22.900198</td>\n",
       "      <td>-23.044731</td>\n",
       "      <td>-18.764437</td>\n",
       "      <td>-18.688389</td>\n",
       "      <td>-22.94228</td>\n",
       "      <td>-25.084158</td>\n",
       "      <td>-26.657005</td>\n",
       "      <td>...</td>\n",
       "      <td>-31.310795</td>\n",
       "      <td>-31.060823</td>\n",
       "      <td>-30.474926</td>\n",
       "      <td>-32.967495</td>\n",
       "      <td>-38.339394</td>\n",
       "      <td>-30.60619</td>\n",
       "      <td>-23.890635</td>\n",
       "      <td>-19.444794</td>\n",
       "      <td>-16.80761</td>\n",
       "      <td>-13.034663</td>\n",
       "    </tr>\n",
       "  </tbody>\n",
       "</table>\n",
       "<p>1 rows × 216 columns</p>\n",
       "</div>"
      ],
      "text/plain": [
       "         0          1          2          3          4          5    \\\n",
       "0 -11.294938 -15.125132 -24.727261 -22.900198 -23.044731 -18.764437   \n",
       "\n",
       "         6         7          8          9    ...        206        207  \\\n",
       "0 -18.688389 -22.94228 -25.084158 -26.657005  ... -31.310795 -31.060823   \n",
       "\n",
       "         208        209        210       211        212        213       214  \\\n",
       "0 -30.474926 -32.967495 -38.339394 -30.60619 -23.890635 -19.444794 -16.80761   \n",
       "\n",
       "         215  \n",
       "0 -13.034663  \n",
       "\n",
       "[1 rows x 216 columns]"
      ]
     },
     "execution_count": 19,
     "metadata": {},
     "output_type": "execute_result"
    }
   ],
   "source": [
    "# Lets transform the dataset so we can apply the predictions\n",
    "X, sample_rate = librosa.load('chunk_85-90s.wav'\n",
    "                              ,res_type='kaiser_fast'\n",
    "                              ,duration=2.5\n",
    "                              ,sr=44100\n",
    "                              ,offset=0.5\n",
    "                             )\n",
    "\n",
    "sample_rate = np.array(sample_rate)\n",
    "mfccs = np.mean(librosa.feature.mfcc(y=X, sr=sample_rate, n_mfcc=13),axis=0)\n",
    "newdf = pd.DataFrame(data=mfccs).T\n",
    "newdf"
   ]
  },
  {
   "cell_type": "code",
   "execution_count": 20,
   "metadata": {},
   "outputs": [
    {
     "name": "stdout",
     "output_type": "stream",
     "text": [
      "1/1 [==============================] - 0s 114ms/step\n"
     ]
    },
    {
     "data": {
      "text/plain": [
       "array([[5.2150174e-20, 9.2852874e-13, 1.0740721e-19, 3.7681625e-20,\n",
       "        1.7721507e-18, 5.8185166e-01, 8.0701357e-06, 2.6322040e-30,\n",
       "        9.4541363e-12, 1.5892900e-12, 7.4648502e-25, 1.9169160e-14,\n",
       "        4.1814026e-01, 3.3527234e-14]], dtype=float32)"
      ]
     },
     "execution_count": 20,
     "metadata": {},
     "output_type": "execute_result"
    }
   ],
   "source": [
    "# Apply predictions\n",
    "newdf= np.expand_dims(newdf, axis=2)\n",
    "newpred = loaded_model.predict(newdf, \n",
    "                         batch_size=16, \n",
    "                         verbose=1)\n",
    "\n",
    "newpred"
   ]
  },
  {
   "cell_type": "code",
   "execution_count": 22,
   "metadata": {},
   "outputs": [
    {
     "name": "stdout",
     "output_type": "stream",
     "text": [
      "['female_sad']\n"
     ]
    }
   ],
   "source": [
    "# above output in numbers, map above output with saved labels(last notebook)\n",
    "\n",
    "filename = 'labels'\n",
    "infile = open(filename,'rb')\n",
    "lb = pickle.load(infile)\n",
    "infile.close()\n",
    "\n",
    "# Get the final predicted label\n",
    "final = newpred.argmax(axis=1)\n",
    "final = final.astype(int).flatten()\n",
    "final = (lb.inverse_transform((final)))\n",
    "print(final) #emotion(final) #gender(final)"
   ]
  },
  {
   "cell_type": "code",
   "execution_count": null,
   "metadata": {},
   "outputs": [],
   "source": []
  }
 ],
 "metadata": {
  "kernelspec": {
   "display_name": "Python 3",
   "language": "python",
   "name": "python3"
  },
  "language_info": {
   "codemirror_mode": {
    "name": "ipython",
    "version": 3
   },
   "file_extension": ".py",
   "mimetype": "text/x-python",
   "name": "python",
   "nbconvert_exporter": "python",
   "pygments_lexer": "ipython3",
   "version": "3.7.4"
  }
 },
 "nbformat": 4,
 "nbformat_minor": 2
}
